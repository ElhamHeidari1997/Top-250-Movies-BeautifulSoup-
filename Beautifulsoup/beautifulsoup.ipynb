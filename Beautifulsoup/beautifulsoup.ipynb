{
 "cells": [
  {
   "cell_type": "code",
   "execution_count": 254,
   "id": "b8602af3-4f84-432c-8cf6-32266e57c2ff",
   "metadata": {},
   "outputs": [],
   "source": [
    "import requests"
   ]
  },
  {
   "cell_type": "code",
   "execution_count": 255,
   "id": "2a508c12-b08f-47fa-898a-f599de97eb79",
   "metadata": {},
   "outputs": [],
   "source": [
    "from bs4 import BeautifulSoup"
   ]
  },
  {
   "cell_type": "code",
   "execution_count": 256,
   "id": "22b676c7-538d-4ae2-b1f3-e19573277808",
   "metadata": {},
   "outputs": [],
   "source": [
    "page= requests.get(\"https://www.imdb.com/chart/top/\")"
   ]
  },
  {
   "cell_type": "code",
   "execution_count": 257,
   "id": "24db9aab-5707-4901-9627-35532de9689e",
   "metadata": {},
   "outputs": [
    {
     "data": {
      "text/plain": [
       "<Response [200]>"
      ]
     },
     "execution_count": 257,
     "metadata": {},
     "output_type": "execute_result"
    }
   ],
   "source": [
    "page"
   ]
  },
  {
   "cell_type": "code",
   "execution_count": 258,
   "id": "4f172781-9f18-4d32-a12a-dffb3269e48c",
   "metadata": {},
   "outputs": [],
   "source": [
    "#HTTP response code 200 =indicates that the request has succeeded"
   ]
  },
  {
   "cell_type": "code",
   "execution_count": 259,
   "id": "10d9ab0a-be28-4494-8b7c-fd620fb989e4",
   "metadata": {},
   "outputs": [],
   "source": [
    "soup= BeautifulSoup(page.text , \"html.parser\")\n",
    "#extract html of page "
   ]
  },
  {
   "cell_type": "code",
   "execution_count": 260,
   "id": "4beab693-e44b-46f9-bb87-f94398694b01",
   "metadata": {},
   "outputs": [],
   "source": [
    "#print(soup.prettify())\n",
    "#shows the html of the page "
   ]
  },
  {
   "cell_type": "code",
   "execution_count": 264,
   "id": "6fde13ee-73de-4f4e-b023-75e74001e226",
   "metadata": {},
   "outputs": [],
   "source": [
    "#soup.find_all(\"a\")\n",
    "#shows all a tags"
   ]
  },
  {
   "cell_type": "code",
   "execution_count": 265,
   "id": "946c1c93-16be-4783-9719-ec61999da9e4",
   "metadata": {},
   "outputs": [],
   "source": [
    "result=soup.find(id=\"main\")\n",
    "#gadgetselector = #main a "
   ]
  },
  {
   "cell_type": "code",
   "execution_count": 266,
   "id": "d9edbf98-9517-46fa-93e7-8b1def860b11",
   "metadata": {},
   "outputs": [],
   "source": [
    "#print(result)"
   ]
  },
  {
   "cell_type": "code",
   "execution_count": 283,
   "id": "14d17c19-f592-47b4-aa98-99ffb5dcdd1d",
   "metadata": {},
   "outputs": [],
   "source": [
    "name=result.find_all(\"td\",class_=\"titleColumn\")\n"
   ]
  },
  {
   "cell_type": "code",
   "execution_count": 268,
   "id": "50f32a65-bc5f-4b94-9c83-6e030aa009d5",
   "metadata": {},
   "outputs": [],
   "source": [
    "#for i in movies:\n",
    "    #print(i.text)"
   ]
  },
  {
   "cell_type": "code",
   "execution_count": 269,
   "id": "7acaa85b-624c-4b00-b4e9-d59422fabb27",
   "metadata": {},
   "outputs": [],
   "source": [
    "year=result.find_all(\"span\",class_=\"secondaryInfo\")\n",
    "#for i in year:\n",
    "    #print(i.text)"
   ]
  },
  {
   "cell_type": "code",
   "execution_count": 270,
   "id": "ea87715d-d47d-4dc5-9445-c4adaf38624d",
   "metadata": {},
   "outputs": [],
   "source": [
    "rating=result.find_all(\"td\",class_=\"ratingColumn imdbRating\")"
   ]
  },
  {
   "cell_type": "code",
   "execution_count": 291,
   "id": "69bdd838-bdd0-4311-a6b4-21e2e712fb1d",
   "metadata": {},
   "outputs": [],
   "source": [
    "lists=soup.find(\"tbody\", class_=\"lister-list\")\n",
    "#for i in lists:\n",
    "    #print(i.text)\n",
    "\n",
    "#print(lists)\n"
   ]
  },
  {
   "cell_type": "code",
   "execution_count": 292,
   "id": "66f5b3eb-fbe9-4d50-a47a-735868654e7e",
   "metadata": {},
   "outputs": [],
   "source": [
    "import xlsxwriter"
   ]
  },
  {
   "cell_type": "code",
   "execution_count": 307,
   "id": "5acbc141-bc55-42db-805e-7af42484dd5a",
   "metadata": {},
   "outputs": [],
   "source": [
    "workbook = xlsxwriter.Workbook('Top250Movies.xlsx')\n",
    "worksheet = workbook.add_worksheet()"
   ]
  },
  {
   "cell_type": "code",
   "execution_count": 308,
   "id": "4888e12c-3e84-4086-b886-cd408279a3f0",
   "metadata": {},
   "outputs": [],
   "source": [
    "r1=0\n",
    "col=0"
   ]
  },
  {
   "cell_type": "code",
   "execution_count": 309,
   "id": "967dc065-c1ae-45c6-ace5-209a976c8ef1",
   "metadata": {},
   "outputs": [],
   "source": [
    "for i in name:\n",
    "    worksheet.write(r1,col,i.text)\n",
    "    r1+=1\n",
    "r2=0\n",
    "for i in year:\n",
    "    worksheet.write(r2,col+1,i.text)\n",
    "    r2+=1\n",
    "r3=0\n",
    "for i in rating:\n",
    "    worksheet.write(r3,col+2,i.text)\n",
    "    r3+=1\n",
    "workbook.close()"
   ]
  },
  {
   "cell_type": "code",
   "execution_count": null,
   "id": "f0fd6b72-b0ef-412e-b560-aed93632e25b",
   "metadata": {},
   "outputs": [],
   "source": []
  }
 ],
 "metadata": {
  "kernelspec": {
   "display_name": "Python 3 (ipykernel)",
   "language": "python",
   "name": "python3"
  },
  "language_info": {
   "codemirror_mode": {
    "name": "ipython",
    "version": 3
   },
   "file_extension": ".py",
   "mimetype": "text/x-python",
   "name": "python",
   "nbconvert_exporter": "python",
   "pygments_lexer": "ipython3",
   "version": "3.11.1"
  }
 },
 "nbformat": 4,
 "nbformat_minor": 5
}
